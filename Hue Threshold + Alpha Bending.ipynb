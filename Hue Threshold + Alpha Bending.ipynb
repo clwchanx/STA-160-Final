{
 "cells": [
  {
   "cell_type": "code",
   "execution_count": 1,
   "id": "2fc78049",
   "metadata": {},
   "outputs": [],
   "source": [
    "import cv2 as cv\n",
    "import numpy as np"
   ]
  },
  {
   "cell_type": "code",
   "execution_count": 2,
   "id": "ce2020fc",
   "metadata": {},
   "outputs": [],
   "source": [
    "img = cv.imread('RED.png')\n",
    "\n",
    "blue_min = np.array([83, 10, 50],np.uint8)\n",
    "blue_max = np.array([100, 255, 255],np.uint8)\n",
    "\n",
    "hsv_img = cv.cvtColor(img,cv.COLOR_BGR2HSV)\n",
    "\n",
    "mask = cv.inRange(hsv_img,blue_min, blue_max )\n",
    "cv.imshow(\"blue\", mask);cv.waitKey();cv.destroyAllWindows()"
   ]
  },
  {
   "cell_type": "code",
   "execution_count": 8,
   "id": "e9784f72",
   "metadata": {},
   "outputs": [],
   "source": [
    "roi=cv.selectROI(img)\n",
    "roi_cropped=img[int(roi[1]):int(roi[1]+roi[3]), int(roi[0]):int(roi[0]+roi[2])]\n",
    "#cv.imshow(\"Cropped image\", roi_cropped)\n",
    "#cv.waitKey(0)"
   ]
  },
  {
   "cell_type": "code",
   "execution_count": 5,
   "id": "0bbcc916",
   "metadata": {},
   "outputs": [
    {
     "data": {
      "text/plain": [
       "True"
      ]
     },
     "execution_count": 5,
     "metadata": {},
     "output_type": "execute_result"
    }
   ],
   "source": [
    "img[mask>0]=(177,50,240)\n",
    "cv.imwrite(\"result.png\",img)"
   ]
  },
  {
   "cell_type": "code",
   "execution_count": 6,
   "id": "4a8fd3cb",
   "metadata": {},
   "outputs": [
    {
     "ename": "NameError",
     "evalue": "name 'roi_cropped' is not defined",
     "output_type": "error",
     "traceback": [
      "\u001b[1;31m---------------------------------------------------------------------------\u001b[0m",
      "\u001b[1;31mNameError\u001b[0m                                 Traceback (most recent call last)",
      "Input \u001b[1;32mIn [6]\u001b[0m, in \u001b[0;36m<cell line: 4>\u001b[1;34m()\u001b[0m\n\u001b[0;32m      1\u001b[0m blue_min \u001b[38;5;241m=\u001b[39m np\u001b[38;5;241m.\u001b[39marray([\u001b[38;5;241m80\u001b[39m, \u001b[38;5;241m10\u001b[39m, \u001b[38;5;241m50\u001b[39m],np\u001b[38;5;241m.\u001b[39muint8)\n\u001b[0;32m      2\u001b[0m blue_max \u001b[38;5;241m=\u001b[39m np\u001b[38;5;241m.\u001b[39marray([\u001b[38;5;241m100\u001b[39m, \u001b[38;5;241m255\u001b[39m, \u001b[38;5;241m255\u001b[39m],np\u001b[38;5;241m.\u001b[39muint8)\n\u001b[1;32m----> 4\u001b[0m hsv_cropped \u001b[38;5;241m=\u001b[39m cv\u001b[38;5;241m.\u001b[39mcvtColor(\u001b[43mroi_cropped\u001b[49m, cv\u001b[38;5;241m.\u001b[39mCOLOR_BGR2HSV)\n\u001b[0;32m      5\u001b[0m mask \u001b[38;5;241m=\u001b[39m cv\u001b[38;5;241m.\u001b[39minRange(hsv_cropped, blue_min,blue_max)\n\u001b[0;32m      6\u001b[0m cv\u001b[38;5;241m.\u001b[39mimshow(\u001b[38;5;124m\"\u001b[39m\u001b[38;5;124mblue\u001b[39m\u001b[38;5;124m\"\u001b[39m, mask);cv\u001b[38;5;241m.\u001b[39mwaitKey();cv\u001b[38;5;241m.\u001b[39mdestroyAllWindows()\n",
      "\u001b[1;31mNameError\u001b[0m: name 'roi_cropped' is not defined"
     ]
    }
   ],
   "source": [
    "blue_min = np.array([80, 10, 50],np.uint8)\n",
    "blue_max = np.array([100, 255, 255],np.uint8)\n",
    "\n",
    "hsv_cropped = cv.cvtColor(roi_cropped, cv.COLOR_BGR2HSV)\n",
    "mask = cv.inRange(hsv_cropped, blue_min,blue_max)\n",
    "cv.imshow(\"blue\", mask);cv.waitKey();cv.destroyAllWindows()"
   ]
  },
  {
   "cell_type": "code",
   "execution_count": 5,
   "id": "3c303334",
   "metadata": {},
   "outputs": [
    {
     "name": "stdout",
     "output_type": "stream",
     "text": [
      "[[[ 60 255 255]]]\n"
     ]
    }
   ],
   "source": [
    "green = np.uint8([[[0,255,0 ]]])\n",
    "hsv_green = cv.cvtColor(green,cv.COLOR_BGR2HSV)\n",
    "print(hsv_green)"
   ]
  }
 ],
 "metadata": {
  "kernelspec": {
   "display_name": "Python 3 (ipykernel)",
   "language": "python",
   "name": "python3"
  },
  "language_info": {
   "codemirror_mode": {
    "name": "ipython",
    "version": 3
   },
   "file_extension": ".py",
   "mimetype": "text/x-python",
   "name": "python",
   "nbconvert_exporter": "python",
   "pygments_lexer": "ipython3",
   "version": "3.8.3"
  }
 },
 "nbformat": 4,
 "nbformat_minor": 5
}
